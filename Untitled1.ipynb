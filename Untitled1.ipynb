{
 "cells": [
  {
   "cell_type": "code",
   "execution_count": 1,
   "id": "a976c675-fe6b-44fe-b78b-acd9d313ff1a",
   "metadata": {},
   "outputs": [],
   "source": [
    "import sys\n",
    "sys.path.append('../mast3r')\n",
    "sys.path.append('../dust3r')"
   ]
  },
  {
   "cell_type": "code",
   "execution_count": 2,
   "id": "73a0280f-ff35-4961-b891-1a7d845e4b00",
   "metadata": {},
   "outputs": [],
   "source": [
    "import cv2\n",
    "import numpy as np\n",
    "\n",
    "import torch\n",
    "import torchvision.transforms.functional\n",
    "# from matplotlib import pyplot as pl\n",
    "import matplotlib.pyplot as plt\n",
    "from scipy.spatial import cKDTree"
   ]
  },
  {
   "cell_type": "code",
   "execution_count": 3,
   "id": "7cd1c4f9-a5e3-45c0-bc53-28f0355f59b0",
   "metadata": {},
   "outputs": [
    {
     "name": "stdout",
     "output_type": "stream",
     "text": [
      "Warning, cannot find cuda-compiled version of RoPE2D, using a slow pytorch version instead\n"
     ]
    }
   ],
   "source": [
    "from mast3r.model import AsymmetricMASt3R\n",
    "from mast3r.fast_nn import fast_reciprocal_NNs\n",
    "\n",
    "import mast3r.utils.path_to_dust3r\n",
    "from dust3r.inference import inference\n",
    "from dust3r.utils.image import load_images"
   ]
  },
  {
   "cell_type": "code",
   "execution_count": 4,
   "id": "19b51b22-2317-4f89-b637-620c8b3ad699",
   "metadata": {},
   "outputs": [],
   "source": [
    "device = 'cuda'\n",
    "schedule = 'cosine'\n",
    "lr = 0.01\n",
    "niter = 300"
   ]
  },
  {
   "cell_type": "code",
   "execution_count": null,
   "id": "a8536c76-a276-48a1-bad0-8ee48dd693f3",
   "metadata": {},
   "outputs": [],
   "source": [
    "img1_path = '/home/nfs/inf6/data/datasets/ThermalDBs/Freiburg/train/seq_00_day/00/fl_rgb/fl_rgb_1570722747_295433040.png'\n",
    "img2_path = '/home/nfs/inf6/data/datasets/ThermalDBs/Freiburg/train/seq_00_day/00/fl_rgb/fl_rgb_1570722748_2179484080.png'"
   ]
  }
 ],
 "metadata": {
  "kernelspec": {
   "display_name": "Python 3 (ipykernel)",
   "language": "python",
   "name": "python3"
  },
  "language_info": {
   "codemirror_mode": {
    "name": "ipython",
    "version": 3
   },
   "file_extension": ".py",
   "mimetype": "text/x-python",
   "name": "python",
   "nbconvert_exporter": "python",
   "pygments_lexer": "ipython3",
   "version": "3.11.11"
  }
 },
 "nbformat": 4,
 "nbformat_minor": 5
}
